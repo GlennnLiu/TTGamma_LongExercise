{
 "cells": [
  {
   "cell_type": "code",
   "execution_count": null,
   "metadata": {},
   "outputs": [],
   "source": [
    "import numpy as np\n",
    "\n",
    "import matplotlib.pyplot as plt\n",
    "from cycler import cycler\n",
    "from coffea import hist, util\n",
    "from coffea.processor import accumulate\n",
    "\n",
    "\n",
    "from ttgamma.utils.plotting import plotWithRatio, RebinHist, SetRangeHist"
   ]
  },
  {
   "cell_type": "markdown",
   "metadata": {},
   "source": [
    "Load output files"
   ]
  },
  {
   "cell_type": "code",
   "execution_count": null,
   "metadata": {},
   "outputs": [],
   "source": [
    "# NOTE: your timestamps will differ!\n",
    "outputMC = accumulate(\n",
    "    [\n",
    "        util.load(\"Outputs/output_MCTTGamma_run20211216_114449.coffea\"),\n",
    "        util.load(\"Outputs/output_MCSingleTop_run20211216_124610.coffea\"),\n",
    "        util.load(\"Outputs/output_MCTTbar1l_run20211216_121317.coffea\"),\n",
    "        util.load(\"Outputs/output_MCTTbar2l_run20211216_122542.coffea\"),\n",
    "        util.load(\"Outputs/output_MCWJets_run20211216_142316.coffea\"),\n",
    "        util.load(\"Outputs/output_MCZJets_run20211216_130754.coffea\"),\n",
    "        util.load(\"Outputs/output_MCOther_run20211216_165125.coffea\"),\n",
    "    ]\n",
    ")\n",
    "\n",
    "outputData = util.load(\"Outputs/output_Data_run20211216_171828.coffea\")"
   ]
  },
  {
   "cell_type": "markdown",
   "metadata": {},
   "source": [
    "Set up groupings of samples.\n",
    "Order of dictionary is used for determining plotting order"
   ]
  },
  {
   "cell_type": "code",
   "execution_count": null,
   "metadata": {},
   "outputs": [],
   "source": [
    "groupCategory = {\n",
    "    \"Prompt\": slice(1, 2),\n",
    "    \"MisID\": slice(2, 3),\n",
    "    \"NonPrompt\": slice(3, 5),\n",
    "}\n",
    "\n",
    "grouping = {\n",
    "    \"ttgamma\": [\n",
    "        \"TTGamma_Dilepton\",\n",
    "        \"TTGamma_SingleLept\",\n",
    "        \"TTGamma_Hadronic\",\n",
    "    ],\n",
    "    \"other\": [\n",
    "        \"TTbarPowheg_Dilepton\",\n",
    "        \"TTbarPowheg_Semilept\",\n",
    "        \"TTbarPowheg_Hadronic\",\n",
    "        \"W1jets\",\n",
    "        \"W2jets\",\n",
    "        \"W3jets\",\n",
    "        \"W4jets\",\n",
    "        \"DYjetsM10to50\",\n",
    "        \"DYjetsM50\",\n",
    "        \"ST_s_channel\",\n",
    "        \"ST_tW_channel\",\n",
    "        \"ST_tbarW_channel\",\n",
    "        \"ST_tbar_channel\",\n",
    "        \"ST_t_channel\",\n",
    "        \"TTWtoLNu\",\n",
    "        \"TTWtoQQ\",\n",
    "        \"TTZtoLL\",\n",
    "        \"GJets_HT40To100\",\n",
    "        \"GJets_HT100To200\",\n",
    "        \"GJets_HT200To400\",\n",
    "        \"GJets_HT400To600\",\n",
    "        \"GJets_HT600ToInf\",\n",
    "        \"ZZ\",\n",
    "        \"WZ\",\n",
    "        \"WW\",\n",
    "    ],\n",
    "    \"WG\": [\n",
    "        \"WGamma\",\n",
    "    ],\n",
    "    \"ZG\": [\n",
    "        \"ZGamma_01J_5f_lowMass\",\n",
    "    ],\n",
    "\n",
    "}"
   ]
  },
  {
   "cell_type": "markdown",
   "metadata": {},
   "source": [
    "Plot the photon pt spectrum"
   ]
  },
  {
   "cell_type": "code",
   "execution_count": null,
   "metadata": {
    "scrolled": false
   },
   "outputs": [],
   "source": [
    "#Get photon pt distribution from coffea output\n",
    "h = outputMC['photon_pt']\n",
    "\n",
    "#sum over lepton flavors (get both electron and muon)\n",
    "h = h.sum('lepFlavor')\n",
    "\n",
    "#integrate over systematics, selecting only \"nominal\"\n",
    "h = h.integrate('systematic','nominal')\n",
    "\n",
    "#group the datasets into the sample types\n",
    "h = h.group('dataset',hist.Cat(r'dataset',r'Samples',sorting='placement'),grouping)\n",
    "\n",
    "#group the photon category axis into the category types listed above\n",
    "h = h.group('category',hist.Cat(r'category',r'Category',sorting='placement'),groupCategory)\n",
    "\n",
    "#rebin the pt axis\n",
    "h = h.rebin(\"pt\",hist.Bin(\"pt\",h.axis(\"pt\").label,np.array([20,25,30,35,40,45,50,60,70,80,90,100,120,140,160,180,200,250,300,400,500])))\n",
    "\n",
    "hData = outputData['photon_pt'].sum('lepFlavor').sum('systematic').sum('dataset').sum('category')\n",
    "hData = hData.rebin(\"pt\",hist.Bin(\"pt\",h.axis(\"pt\").label,np.array([20,25,30,35,40,45,50,60,70,80,90,100,120,140,160,180,200,250,300,400,500])))\n",
    "\n",
    "plotWithRatio(h.sum('category'), hData, overlay='dataset', invertStack=True, binwnorm=1., xRange=[20,500], yRange=[5e-2,None], logY=True,leg='right')\n",
    "plotWithRatio(h.sum('dataset'), hData, overlay='category', invertStack=True, binwnorm=1., xRange=[20,500], yRange=[5e-2,None], logY=True,leg='right')\n"
   ]
  },
  {
   "cell_type": "code",
   "execution_count": null,
   "metadata": {},
   "outputs": [],
   "source": [
    "h = outputMC['photon_chIso'].sum('lepFlavor').integrate('systematic','nominal')\n",
    "h = h.group('dataset',hist.Cat(r'dataset',r'Samples',sorting='placement'),grouping)\n",
    "h = h.group('category',hist.Cat(r'category',r'Category',sorting='placement'),groupCategory)\n",
    "h = RebinHist(h,'chIso',10)\n",
    "hData = outputData['photon_chIso'].sum('lepFlavor').sum('systematic').sum('dataset').sum('category')\n",
    "hData = RebinHist(hData,'chIso',10)\n",
    "\n",
    "plotWithRatio(h.sum('category'), hData, overlay='dataset', invertStack=True, xRange=[-.1,20], yRange=[1e-1,None], logY=True,leg='right')\n",
    "plotWithRatio(h.sum('dataset'), hData, overlay='category', invertStack=False, xRange=[-.1,20], yRange=[1e-1,None], logY=True,leg='right')\n"
   ]
  },
  {
   "cell_type": "code",
   "execution_count": null,
   "metadata": {},
   "outputs": [],
   "source": [
    "h = outputMC['M3'].integrate('lepFlavor','muon').integrate('systematic','nominal')\n",
    "h = h.group('dataset',hist.Cat(r'dataset',r'Samples',sorting='placement'),grouping)\n",
    "h = h.group('category',hist.Cat(r'category',r'Category',sorting='placement'),groupCategory)\n",
    "h = RebinHist(h,\"M3\",5)\n",
    "h = SetRangeHist(h,\"M3\",50,500)\n",
    "\n",
    "hData = outputData['M3'].integrate('lepFlavor','muon').sum('systematic').sum('dataset').sum('category')\n",
    "hData = RebinHist(hData,\"M3\",5)\n",
    "hData = SetRangeHist(hData,\"M3\",50,500)\n",
    "\n",
    "plotWithRatio(h.sum('category'), hData, overlay='dataset', invertStack=True, leg='right')#, yRange=[1e-1,None], logY=True)\n",
    "plotWithRatio(h.sum('dataset'), hData, overlay='category', invertStack=True, leg='right')#, yRange=[1e-1,None], logY=True)\n"
   ]
  },
  {
   "cell_type": "code",
   "execution_count": null,
   "metadata": {},
   "outputs": [],
   "source": [
    "h = outputMC['M3'].sum('lepFlavor').integrate('systematic','nominal')\n",
    "h = h.group('dataset',hist.Cat(r'dataset',r'Samples',sorting='placement'),grouping)\n",
    "h = RebinHist(h,\"M3\",5)\n",
    "h = SetRangeHist(h,\"M3\",50,550)\n",
    "\n",
    "hData = outputData['M3'].sum('lepFlavor').sum('systematic').sum('dataset').sum('category')\n",
    "hData = RebinHist(hData,\"M3\",5)\n",
    "hData = SetRangeHist(hData,\"M3\",50,550)\n",
    "\n",
    "plotWithRatio(h.sum('dataset'), hData, overlay='category', invertStack=True, xRange=[50,550], leg='right')#, yRange=[1e-1,None], logY=True)\n",
    "\n"
   ]
  },
  {
   "cell_type": "code",
   "execution_count": null,
   "metadata": {},
   "outputs": [],
   "source": [
    "h = outputMC['photon_lepton_mass_3j0t'].integrate('lepFlavor','electron').integrate('systematic','nominal')\n",
    "h = h.group('dataset',hist.Cat(r'dataset',r'Samples',sorting='placement'),grouping)\n",
    "h = h.group('category',hist.Cat(r'category',r'Category',sorting='placement'),groupCategory)\n",
    "#h = h.rebin(\"mass\",5).setRange(\"mass\",10,200)\n",
    "h = RebinHist(h,\"mass\",5)\n",
    "h = SetRangeHist(h,\"mass\",10,200)\n",
    "\n",
    "hData = outputData['photon_lepton_mass_3j0t'].integrate('lepFlavor','electron').sum('systematic').sum('dataset').sum('category')\n",
    "#hData = hData.rebin(\"mass\",5).setRange(\"mass\",10,200)\n",
    "hData = RebinHist(hData,\"mass\",5)\n",
    "hData = SetRangeHist(hData,\"mass\",10,200)\n",
    "\n",
    "plotWithRatio(h.sum('category'), hData, overlay='dataset', invertStack=True, yRange=[0,1800], leg='right')\n",
    "plotWithRatio(h.sum('dataset'), hData, overlay='category', invertStack=True, yRange=[0,1800], leg='right')\n"
   ]
  },
  {
   "cell_type": "code",
   "execution_count": null,
   "metadata": {},
   "outputs": [],
   "source": []
  },
  {
   "cell_type": "code",
   "execution_count": null,
   "metadata": {},
   "outputs": [],
   "source": []
  }
 ],
 "metadata": {
  "kernelspec": {
   "display_name": "Python 3 (ipykernel)",
   "language": "python",
   "name": "python3"
  },
  "language_info": {
   "codemirror_mode": {
    "name": "ipython",
    "version": 3
   },
   "file_extension": ".py",
   "mimetype": "text/x-python",
   "name": "python",
   "nbconvert_exporter": "python",
   "pygments_lexer": "ipython3",
   "version": "3.8.12"
  }
 },
 "nbformat": 4,
 "nbformat_minor": 2
}
