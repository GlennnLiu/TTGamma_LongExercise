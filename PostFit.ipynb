{
 "cells": [
  {
   "cell_type": "code",
   "execution_count": null,
   "id": "b2ef3789",
   "metadata": {},
   "outputs": [],
   "source": [
    "import uproot\n",
    "import numpy as np"
   ]
  },
  {
   "cell_type": "code",
   "execution_count": null,
   "id": "6604e7db",
   "metadata": {},
   "outputs": [],
   "source": [
    "import matplotlib.pyplot as plt\n",
    "import mplhep as hep\n",
    "plt.style.use(hep.style.CMS)"
   ]
  },
  {
   "cell_type": "code",
   "execution_count": null,
   "id": "6eca2491",
   "metadata": {},
   "outputs": [],
   "source": [
    "def add_uncertainty(hist, ax, ratio=False):\n",
    "    opts = {'step': 'post', 'label': 'Uncertainty', 'hatch': '///',\n",
    "                    'facecolor': 'none', 'edgecolor': (0, 0, 0, .5), 'linewidth': 0, 'zorder':10.}\n",
    "    \n",
    "    if ratio:\n",
    "        down = np.ones(len(hist.counts())) - hist.errors()/hist.counts()\n",
    "        up = np.ones(len(hist.counts())) + hist.errors()/hist.counts()\n",
    "    else:\n",
    "        down = hist.counts()-hist.errors()\n",
    "        up = hist.counts()+hist.errors()\n",
    "        \n",
    "    ax.fill_between(x=hist.axes[0].edges(), y1=np.r_[down, down[-1]], y2=np.r_[up, up[-1]], **opts)"
   ]
  },
  {
   "cell_type": "code",
   "execution_count": null,
   "id": "ba901658",
   "metadata": {},
   "outputs": [],
   "source": [
    "fitDiagnostics = uproot.open('fitDiagnostics.root')"
   ]
  },
  {
   "cell_type": "code",
   "execution_count": null,
   "id": "8f1dd48b",
   "metadata": {
    "scrolled": false
   },
   "outputs": [],
   "source": [
    "fitDiagnostics.keys();"
   ]
  },
  {
   "cell_type": "code",
   "execution_count": null,
   "id": "3cccb2b8",
   "metadata": {},
   "outputs": [],
   "source": [
    "fitDiagnostics['shapes_fit_s'].keys();"
   ]
  },
  {
   "cell_type": "code",
   "execution_count": null,
   "id": "8967c297",
   "metadata": {},
   "outputs": [],
   "source": [
    "dc_sr = fitDiagnostics['shapes_fit_s/dc_sr']"
   ]
  },
  {
   "cell_type": "code",
   "execution_count": null,
   "id": "7950d6eb",
   "metadata": {},
   "outputs": [],
   "source": [
    "dc_sr['WG'].counts()"
   ]
  },
  {
   "cell_type": "code",
   "execution_count": null,
   "id": "a7291e59",
   "metadata": {},
   "outputs": [],
   "source": [
    "h = dc_sr['data']"
   ]
  },
  {
   "cell_type": "code",
   "execution_count": null,
   "id": "c5c19824",
   "metadata": {},
   "outputs": [],
   "source": [
    "h.values()[1]"
   ]
  },
  {
   "cell_type": "code",
   "execution_count": null,
   "id": "ced38b9e",
   "metadata": {},
   "outputs": [],
   "source": [
    "processes = [\n",
    "    'ttgamma',\n",
    "    'NonPrompt',\n",
    "    'MisID',\n",
    "    'WG',\n",
    "    'ZG',\n",
    "    'other',\n",
    "]\n",
    "\n",
    "processes.reverse()\n",
    "\n",
    "colors = {\n",
    "    'ttgamma': '',  # FIXME\n",
    "    \n",
    "}\n",
    "\n",
    "labels = {\n",
    "    'ttgamma': r'$t\\bar{t}\\gamma$',\n",
    "    'NonPrompt': r'nonprompt $\\gamma$',\n",
    "    'MisID': r'MisID $\\gamma$',\n",
    "    'WG': r'$W\\gamma$',\n",
    "    'ZG': r'$Z\\gamma$',\n",
    "    'other': r'other',\n",
    "}"
   ]
  },
  {
   "cell_type": "code",
   "execution_count": null,
   "id": "db2a0b85",
   "metadata": {
    "scrolled": false
   },
   "outputs": [],
   "source": [
    "fig, (ax, rax) = plt.subplots(2,1,figsize=(10,10), gridspec_kw={\"height_ratios\": (3, 1), \"hspace\": 0.05}, sharex=True)\n",
    "\n",
    "hep.cms.label(\n",
    "    \"Preliminary\",\n",
    "    data=True,\n",
    "    lumi=35.9,\n",
    "    loc=0,\n",
    "    ax=ax,\n",
    ")\n",
    "\n",
    "hep.histplot(\n",
    "    [ dc_sr[x].counts() for x in processes ],\n",
    "    dc_sr['total'].axes[0].edges(),\n",
    "    #w2=[ dc_sr[x].errors() for x in processes ],  # not needed\n",
    "    histtype=\"fill\",\n",
    "    stack=True,\n",
    "    label=[labels[x] for x in processes],\n",
    "    #color=['red', 'green'],\n",
    "    ax=ax)\n",
    "\n",
    "\n",
    "hep.histplot(\n",
    "    dc_sr['data'].values()[1],\n",
    "    dc_sr['total'].axes[0].edges(),\n",
    "    w2=dc_sr['data'].values()[1],\n",
    "    histtype=\"errorbar\",\n",
    "    stack=False,\n",
    "    label='Observation',\n",
    "    color='black',\n",
    "    ax=ax)\n",
    "\n",
    "ratio_val = dc_sr['data'].values()[1]/dc_sr['total'].counts()\n",
    "ratio_err_hep = np.sqrt(dc_sr['data'].values()[1])/dc_sr['data'].values()[1]\n",
    "\n",
    "hep.histplot(\n",
    "    ratio_val,\n",
    "    dc_sr['total'].axes[0].edges(),\n",
    "    yerr=ratio_err_hep,\n",
    "    histtype=\"errorbar\",\n",
    "    color='black',\n",
    "    ax=rax)\n",
    "\n",
    "rax.set_ylim(0,1.99)\n",
    "rax.set_xlabel('Signal Region')\n",
    "rax.set_ylabel(r'Data/Pred.')\n",
    "ax.set_ylabel(r'Events')\n",
    "\n",
    "add_uncertainty(dc_sr['total'], ax)\n",
    "add_uncertainty(dc_sr['total'], rax, ratio=True)\n",
    "\n",
    "ax.legend()"
   ]
  },
  {
   "cell_type": "code",
   "execution_count": null,
   "id": "612eb79e",
   "metadata": {},
   "outputs": [],
   "source": []
  }
 ],
 "metadata": {
  "kernelspec": {
   "display_name": "Python 3 (ipykernel)",
   "language": "python",
   "name": "python3"
  },
  "language_info": {
   "codemirror_mode": {
    "name": "ipython",
    "version": 3
   },
   "file_extension": ".py",
   "mimetype": "text/x-python",
   "name": "python",
   "nbconvert_exporter": "python",
   "pygments_lexer": "ipython3",
   "version": "3.8.12"
  }
 },
 "nbformat": 4,
 "nbformat_minor": 5
}
