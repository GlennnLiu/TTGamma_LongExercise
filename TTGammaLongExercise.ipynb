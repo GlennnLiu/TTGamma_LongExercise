{
 "cells": [
  {
   "cell_type": "markdown",
   "metadata": {},
   "source": [
    "# Running the TTGammaProcessor"
   ]
  },
  {
   "cell_type": "markdown",
   "metadata": {},
   "source": [
    "This cell will copy the test files from their location on eos to your local area. This only needs to be done once!"
   ]
  },
  {
   "cell_type": "code",
   "execution_count": 1,
   "metadata": {},
   "outputs": [],
   "source": [
    "%load_ext autoreload\n",
    "from coffea import util, processor\n",
    "from coffea.nanoevents import NanoEventsFactory, NanoAODSchema"
   ]
  },
  {
   "cell_type": "markdown",
   "metadata": {},
   "source": [
    "List of samples to be run on (fileset variable) and a dictionary containing the number of events processed for each sample"
   ]
  },
  {
   "cell_type": "code",
   "execution_count": 2,
   "metadata": {},
   "outputs": [],
   "source": [
    "fileset = {\n",
    "    \"TTGamma_SingleLept\": [\n",
    "        \"root://cmseos.fnal.gov//store/user/cmsdas/2020/long_exercises/TTGamma/TestFiles/TTGamma_1l.root\"\n",
    "    ],\n",
    "    \"TTbarPowheg_Semilept\": [\n",
    "        \"root://cmseos.fnal.gov//store/user/cmsdas/2020/long_exercises/TTGamma/TestFiles/TTbar_1l.root\"\n",
    "    ],\n",
    "    \"W4jets\": [\n",
    "        \"root://cmseos.fnal.gov//store/user/cmsdas/2020/long_exercises/TTGamma/TestFiles/W4Jets.root\"\n",
    "    ],\n",
    "    \"WGamma_01J_5f\": [\n",
    "        \"root://cmseos.fnal.gov//store/user/cmsdas/2020/long_exercises/TTGamma/TestFiles/WGamma.root\"\n",
    "    ],\n",
    "    \"ZGamma_01J_5f_lowMass\": [\n",
    "        \"root://cmseos.fnal.gov//store/user/cmsdas/2020/long_exercises/TTGamma/TestFiles/ZGamma.root\"\n",
    "    ],\n",
    "    \"DYjetsM50\": [\n",
    "        \"root://cmseos.fnal.gov//store/user/cmsdas/2020/long_exercises/TTGamma/TestFiles/ZJets.root\"\n",
    "    ],\n",
    "}"
   ]
  },
  {
   "cell_type": "markdown",
   "metadata": {},
   "source": [
    "Run the TTGammaProcessor on the list of files included in fileset.\n",
    "\n",
    "You can specify the chunksize and maximum number of chunks to process from each sample (selecting a small number of events and one chunk will force coffea to process only a subset of the events for quicker debugging)"
   ]
  },
  {
   "cell_type": "code",
   "execution_count": null,
   "metadata": {},
   "outputs": [
    {
     "data": {
      "application/vnd.jupyter.widget-view+json": {
       "model_id": "3f1952cf984244d1898d1ea7399ced77",
       "version_major": 2,
       "version_minor": 0
      },
      "text/plain": [
       "Processing:   0%|          | 0/6 [00:00<?, ?chunk/s]"
      ]
     },
     "metadata": {},
     "output_type": "display_data"
    }
   ],
   "source": [
    "#autoreload forces the kernel to reload the processor to include any new changes\n",
    "%autoreload 2\n",
    "from ttgamma import TTGammaProcessor\n",
    "import awkward as ak\n",
    "\n",
    "import time\n",
    "tstart = time.time()\n",
    "\n",
    "#Run Coffea code using uproot\n",
    "output = processor.run_uproot_job(\n",
    "    fileset,\n",
    "    \"Events\",\n",
    "    TTGammaProcessor(isMC=True),\n",
    "    processor.iterative_executor,\n",
    "    executor_args={'schema': NanoAODSchema,'workers': 4},\n",
    "    chunksize=10000,\n",
    "    maxchunks=1,\n",
    ")\n",
    "\n",
    "elapsed = time.time() - tstart\n",
    "print(\"Total time: %.1f seconds\"%elapsed)\n",
    "print(\"Total rate: %.1f events / second\"%(output['EventCount'].value/elapsed))"
   ]
  },
  {
   "cell_type": "code",
   "execution_count": 24,
   "metadata": {},
   "outputs": [
    {
     "data": {
      "text/plain": [
       "{'all_photon_pt': <Hist (dataset,pt) instance at 0x7f28342dcd60>,\n",
       " 'photon_pt': <Hist (dataset,pt,category,lepFlavor,systematic) instance at 0x7f284e8868b0>,\n",
       " 'photon_eta': <Hist (dataset,eta,category,lepFlavor,systematic) instance at 0x7f2834350220>,\n",
       " 'photon_chIso': <Hist (dataset,chIso,category,lepFlavor,systematic) instance at 0x7f283c109eb0>,\n",
       " 'photon_lepton_mass_3j0t': <Hist (dataset,mass,category,lepFlavor,systematic) instance at 0x7f283420f9a0>,\n",
       " 'M3': <Hist (dataset,M3,category,lepFlavor,systematic) instance at 0x7f280c48cfa0>,\n",
       " 'EventCount': value_accumulator(int, 60181)}"
      ]
     },
     "execution_count": 24,
     "metadata": {},
     "output_type": "execute_result"
    }
   ],
   "source": [
    "output"
   ]
  },
  {
   "cell_type": "code",
   "execution_count": 31,
   "metadata": {},
   "outputs": [
    {
     "data": {
      "text/plain": [
       "<Hist (dataset,chIso) instance at 0x7f28373938e0>"
      ]
     },
     "execution_count": 31,
     "metadata": {},
     "output_type": "execute_result"
    }
   ],
   "source": [
    "output['photon_chIso'].sum(\"category\", \"lepFlavor\").integrate(\"systematic\", \"nominal\")"
   ]
  },
  {
   "cell_type": "code",
   "execution_count": null,
   "metadata": {},
   "outputs": [],
   "source": []
  },
  {
   "cell_type": "code",
   "execution_count": 37,
   "metadata": {},
   "outputs": [
    {
     "name": "stderr",
     "output_type": "stream",
     "text": [
      "/opt/conda/lib/python3.8/site-packages/coffea/hist/plot.py:43: RuntimeWarning: All sumw are zero!  Cannot compute meaningful error bars\n",
      "  warnings.warn(\n",
      "/opt/conda/lib/python3.8/site-packages/numpy/core/_methods.py:44: RuntimeWarning: invalid value encountered in reduce\n",
      "  return umr_minimum(a, axis, None, out, keepdims, initial, where)\n",
      "/opt/conda/lib/python3.8/site-packages/numpy/core/_methods.py:40: RuntimeWarning: invalid value encountered in reduce\n",
      "  return umr_maximum(a, axis, None, out, keepdims, initial, where)\n",
      "/opt/conda/lib/python3.8/site-packages/numpy/core/_methods.py:44: RuntimeWarning: invalid value encountered in reduce\n",
      "  return umr_minimum(a, axis, None, out, keepdims, initial, where)\n",
      "/opt/conda/lib/python3.8/site-packages/numpy/core/_methods.py:40: RuntimeWarning: invalid value encountered in reduce\n",
      "  return umr_maximum(a, axis, None, out, keepdims, initial, where)\n",
      "/opt/conda/lib/python3.8/site-packages/numpy/core/_methods.py:44: RuntimeWarning: invalid value encountered in reduce\n",
      "  return umr_minimum(a, axis, None, out, keepdims, initial, where)\n",
      "/opt/conda/lib/python3.8/site-packages/numpy/core/_methods.py:40: RuntimeWarning: invalid value encountered in reduce\n",
      "  return umr_maximum(a, axis, None, out, keepdims, initial, where)\n",
      "/opt/conda/lib/python3.8/site-packages/numpy/core/_methods.py:44: RuntimeWarning: invalid value encountered in reduce\n",
      "  return umr_minimum(a, axis, None, out, keepdims, initial, where)\n",
      "/opt/conda/lib/python3.8/site-packages/numpy/core/_methods.py:40: RuntimeWarning: invalid value encountered in reduce\n",
      "  return umr_maximum(a, axis, None, out, keepdims, initial, where)\n"
     ]
    },
    {
     "data": {
      "text/plain": [
       "(0.0001, 1)"
      ]
     },
     "execution_count": 37,
     "metadata": {},
     "output_type": "execute_result"
    },
    {
     "data": {
      "image/png": "[encoded data removed]",
      "text/plain": [
       "<Figure size 432x288 with 1 Axes>"
      ]
     },
     "metadata": {
      "needs_background": "light"
     },
     "output_type": "display_data"
    }
   ],
   "source": [
    "from coffea import hist\n",
    "import matplotlib.pyplot as plt\n",
    "\n",
    "hist.plot1d(_31, overlay='dataset')\n",
    "plt.yscale('log')\n",
    "plt.ylim(1e-4, 1)"
   ]
  },
  {
   "cell_type": "code",
   "execution_count": 27,
   "metadata": {},
   "outputs": [
    {
     "name": "stdout",
     "output_type": "stream",
     "text": [
      "('WGamma_01J_5f', 'electron', 'nominal') False\n",
      "('WGamma_01J_5f', 'muon', 'nominal') False\n",
      "('WGamma_01J_5f', 'electron', 'muEffWeightUp') False\n",
      "('WGamma_01J_5f', 'muon', 'muEffWeightUp') False\n",
      "('WGamma_01J_5f', 'electron', 'muEffWeightDown') False\n",
      "('WGamma_01J_5f', 'muon', 'muEffWeightDown') False\n",
      "('WGamma_01J_5f', 'electron', 'eleEffWeightUp') False\n",
      "('WGamma_01J_5f', 'muon', 'eleEffWeightUp') False\n",
      "('WGamma_01J_5f', 'electron', 'eleEffWeightDown') False\n",
      "('WGamma_01J_5f', 'muon', 'eleEffWeightDown') False\n",
      "('WGamma_01J_5f', 'electron', 'ISRUp') False\n",
      "('WGamma_01J_5f', 'muon', 'ISRUp') False\n",
      "('WGamma_01J_5f', 'electron', 'ISRDown') False\n",
      "('WGamma_01J_5f', 'muon', 'ISRDown') False\n",
      "('WGamma_01J_5f', 'electron', 'FSRUp') False\n",
      "('WGamma_01J_5f', 'muon', 'FSRUp') False\n",
      "('WGamma_01J_5f', 'electron', 'FSRDown') False\n",
      "('WGamma_01J_5f', 'muon', 'FSRDown') False\n",
      "('WGamma_01J_5f', 'electron', 'PDFUp') False\n",
      "('WGamma_01J_5f', 'muon', 'PDFUp') False\n",
      "('WGamma_01J_5f', 'electron', 'PDFDown') False\n",
      "('WGamma_01J_5f', 'muon', 'PDFDown') False\n",
      "('WGamma_01J_5f', 'electron', 'Q2ScaleUp') False\n",
      "('WGamma_01J_5f', 'muon', 'Q2ScaleUp') False\n",
      "('WGamma_01J_5f', 'electron', 'Q2ScaleDown') False\n",
      "('WGamma_01J_5f', 'muon', 'Q2ScaleDown') False\n",
      "('WGamma_01J_5f', 'electron', 'puWeightUp') False\n",
      "('WGamma_01J_5f', 'muon', 'puWeightUp') False\n",
      "('WGamma_01J_5f', 'electron', 'puWeightDown') False\n",
      "('WGamma_01J_5f', 'muon', 'puWeightDown') False\n",
      "('WGamma_01J_5f', 'electron', 'btagWeightUp') False\n",
      "('WGamma_01J_5f', 'muon', 'btagWeightUp') False\n",
      "('WGamma_01J_5f', 'electron', 'btagWeightDown') False\n",
      "('WGamma_01J_5f', 'muon', 'btagWeightDown') False\n",
      "('WGamma_01J_5f', 'electron', 'JESUp') False\n",
      "('WGamma_01J_5f', 'muon', 'JESUp') False\n",
      "('WGamma_01J_5f', 'electron', 'JESDown') False\n",
      "('WGamma_01J_5f', 'muon', 'JESDown') False\n",
      "('WGamma_01J_5f', 'electron', 'JERUp') False\n",
      "('WGamma_01J_5f', 'muon', 'JERUp') False\n",
      "('WGamma_01J_5f', 'electron', 'JERDown') False\n",
      "('WGamma_01J_5f', 'muon', 'JERDown') False\n",
      "('W4jets', 'electron', 'nominal') False\n",
      "('W4jets', 'muon', 'nominal') False\n",
      "('W4jets', 'electron', 'muEffWeightUp') False\n",
      "('W4jets', 'muon', 'muEffWeightUp') False\n",
      "('W4jets', 'electron', 'muEffWeightDown') False\n",
      "('W4jets', 'muon', 'muEffWeightDown') False\n",
      "('W4jets', 'electron', 'eleEffWeightUp') False\n",
      "('W4jets', 'muon', 'eleEffWeightUp') False\n",
      "('W4jets', 'electron', 'eleEffWeightDown') False\n",
      "('W4jets', 'muon', 'eleEffWeightDown') False\n",
      "('W4jets', 'electron', 'ISRUp') False\n",
      "('W4jets', 'muon', 'ISRUp') False\n",
      "('W4jets', 'electron', 'ISRDown') False\n",
      "('W4jets', 'muon', 'ISRDown') False\n",
      "('W4jets', 'electron', 'FSRUp') False\n",
      "('W4jets', 'muon', 'FSRUp') False\n",
      "('W4jets', 'electron', 'FSRDown') False\n",
      "('W4jets', 'muon', 'FSRDown') False\n",
      "('W4jets', 'electron', 'PDFUp') False\n",
      "('W4jets', 'muon', 'PDFUp') False\n",
      "('W4jets', 'electron', 'PDFDown') False\n",
      "('W4jets', 'muon', 'PDFDown') False\n",
      "('W4jets', 'electron', 'Q2ScaleUp') False\n",
      "('W4jets', 'muon', 'Q2ScaleUp') False\n",
      "('W4jets', 'electron', 'Q2ScaleDown') False\n",
      "('W4jets', 'muon', 'Q2ScaleDown') False\n",
      "('W4jets', 'electron', 'puWeightUp') False\n",
      "('W4jets', 'muon', 'puWeightUp') False\n",
      "('W4jets', 'electron', 'puWeightDown') False\n",
      "('W4jets', 'muon', 'puWeightDown') False\n",
      "('W4jets', 'electron', 'btagWeightUp') False\n",
      "('W4jets', 'muon', 'btagWeightUp') False\n",
      "('W4jets', 'electron', 'btagWeightDown') False\n",
      "('W4jets', 'muon', 'btagWeightDown') False\n",
      "('W4jets', 'electron', 'JESUp') False\n",
      "('W4jets', 'muon', 'JESUp') False\n",
      "('W4jets', 'electron', 'JESDown') False\n",
      "('W4jets', 'muon', 'JESDown') False\n",
      "('W4jets', 'electron', 'JERUp') False\n",
      "('W4jets', 'muon', 'JERUp') False\n",
      "('W4jets', 'electron', 'JERDown') False\n",
      "('W4jets', 'muon', 'JERDown') False\n",
      "('TTbarPowheg_Semilept', 'electron', 'nominal') False\n",
      "('TTbarPowheg_Semilept', 'muon', 'nominal') False\n",
      "('TTbarPowheg_Semilept', 'electron', 'muEffWeightUp') False\n",
      "('TTbarPowheg_Semilept', 'muon', 'muEffWeightUp') False\n",
      "('TTbarPowheg_Semilept', 'electron', 'muEffWeightDown') False\n",
      "('TTbarPowheg_Semilept', 'muon', 'muEffWeightDown') False\n",
      "('TTbarPowheg_Semilept', 'electron', 'eleEffWeightUp') False\n",
      "('TTbarPowheg_Semilept', 'muon', 'eleEffWeightUp') False\n",
      "('TTbarPowheg_Semilept', 'electron', 'eleEffWeightDown') False\n",
      "('TTbarPowheg_Semilept', 'muon', 'eleEffWeightDown') False\n",
      "('TTbarPowheg_Semilept', 'electron', 'ISRUp') False\n",
      "('TTbarPowheg_Semilept', 'muon', 'ISRUp') False\n",
      "('TTbarPowheg_Semilept', 'electron', 'ISRDown') False\n",
      "('TTbarPowheg_Semilept', 'muon', 'ISRDown') False\n",
      "('TTbarPowheg_Semilept', 'electron', 'FSRUp') False\n",
      "('TTbarPowheg_Semilept', 'muon', 'FSRUp') False\n",
      "('TTbarPowheg_Semilept', 'electron', 'FSRDown') False\n",
      "('TTbarPowheg_Semilept', 'muon', 'FSRDown') False\n",
      "('TTbarPowheg_Semilept', 'electron', 'PDFUp') False\n",
      "('TTbarPowheg_Semilept', 'muon', 'PDFUp') False\n",
      "('TTbarPowheg_Semilept', 'electron', 'PDFDown') False\n",
      "('TTbarPowheg_Semilept', 'muon', 'PDFDown') False\n",
      "('TTbarPowheg_Semilept', 'electron', 'Q2ScaleUp') False\n",
      "('TTbarPowheg_Semilept', 'muon', 'Q2ScaleUp') False\n",
      "('TTbarPowheg_Semilept', 'electron', 'Q2ScaleDown') False\n",
      "('TTbarPowheg_Semilept', 'muon', 'Q2ScaleDown') False\n",
      "('TTbarPowheg_Semilept', 'electron', 'puWeightUp') False\n",
      "('TTbarPowheg_Semilept', 'muon', 'puWeightUp') False\n",
      "('TTbarPowheg_Semilept', 'electron', 'puWeightDown') False\n",
      "('TTbarPowheg_Semilept', 'muon', 'puWeightDown') False\n",
      "('TTbarPowheg_Semilept', 'electron', 'btagWeightUp') False\n",
      "('TTbarPowheg_Semilept', 'muon', 'btagWeightUp') False\n",
      "('TTbarPowheg_Semilept', 'electron', 'btagWeightDown') False\n",
      "('TTbarPowheg_Semilept', 'muon', 'btagWeightDown') False\n",
      "('TTbarPowheg_Semilept', 'electron', 'JESUp') False\n",
      "('TTbarPowheg_Semilept', 'muon', 'JESUp') False\n",
      "('TTbarPowheg_Semilept', 'electron', 'JESDown') False\n",
      "('TTbarPowheg_Semilept', 'muon', 'JESDown') False\n",
      "('TTbarPowheg_Semilept', 'electron', 'JERUp') False\n",
      "('TTbarPowheg_Semilept', 'muon', 'JERUp') False\n",
      "('TTbarPowheg_Semilept', 'electron', 'JERDown') False\n",
      "('TTbarPowheg_Semilept', 'muon', 'JERDown') False\n",
      "('TTGamma_SingleLept', 'electron', 'nominal') False\n",
      "('TTGamma_SingleLept', 'muon', 'nominal') False\n",
      "('TTGamma_SingleLept', 'electron', 'muEffWeightUp') False\n",
      "('TTGamma_SingleLept', 'muon', 'muEffWeightUp') False\n",
      "('TTGamma_SingleLept', 'electron', 'muEffWeightDown') False\n",
      "('TTGamma_SingleLept', 'muon', 'muEffWeightDown') False\n",
      "('TTGamma_SingleLept', 'electron', 'eleEffWeightUp') False\n",
      "('TTGamma_SingleLept', 'muon', 'eleEffWeightUp') False\n",
      "('TTGamma_SingleLept', 'electron', 'eleEffWeightDown') False\n",
      "('TTGamma_SingleLept', 'muon', 'eleEffWeightDown') False\n",
      "('TTGamma_SingleLept', 'electron', 'ISRUp') False\n",
      "('TTGamma_SingleLept', 'muon', 'ISRUp') False\n",
      "('TTGamma_SingleLept', 'electron', 'ISRDown') False\n",
      "('TTGamma_SingleLept', 'muon', 'ISRDown') False\n",
      "('TTGamma_SingleLept', 'electron', 'FSRUp') False\n",
      "('TTGamma_SingleLept', 'muon', 'FSRUp') False\n",
      "('TTGamma_SingleLept', 'electron', 'FSRDown') False\n",
      "('TTGamma_SingleLept', 'muon', 'FSRDown') False\n",
      "('TTGamma_SingleLept', 'electron', 'PDFUp') False\n",
      "('TTGamma_SingleLept', 'muon', 'PDFUp') False\n",
      "('TTGamma_SingleLept', 'electron', 'PDFDown') False\n",
      "('TTGamma_SingleLept', 'muon', 'PDFDown') False\n",
      "('TTGamma_SingleLept', 'electron', 'Q2ScaleUp') False\n",
      "('TTGamma_SingleLept', 'muon', 'Q2ScaleUp') False\n",
      "('TTGamma_SingleLept', 'electron', 'Q2ScaleDown') False\n",
      "('TTGamma_SingleLept', 'muon', 'Q2ScaleDown') False\n",
      "('TTGamma_SingleLept', 'electron', 'puWeightUp') False\n",
      "('TTGamma_SingleLept', 'muon', 'puWeightUp') False\n",
      "('TTGamma_SingleLept', 'electron', 'puWeightDown') False\n",
      "('TTGamma_SingleLept', 'muon', 'puWeightDown') False\n",
      "('TTGamma_SingleLept', 'electron', 'btagWeightUp') False\n",
      "('TTGamma_SingleLept', 'muon', 'btagWeightUp') False\n",
      "('TTGamma_SingleLept', 'electron', 'btagWeightDown') False\n",
      "('TTGamma_SingleLept', 'muon', 'btagWeightDown') False\n",
      "('TTGamma_SingleLept', 'electron', 'JESUp') False\n",
      "('TTGamma_SingleLept', 'muon', 'JESUp') False\n",
      "('TTGamma_SingleLept', 'electron', 'JESDown') False\n",
      "('TTGamma_SingleLept', 'muon', 'JESDown') False\n",
      "('TTGamma_SingleLept', 'electron', 'JERUp') False\n",
      "('TTGamma_SingleLept', 'muon', 'JERUp') False\n",
      "('TTGamma_SingleLept', 'electron', 'JERDown') False\n",
      "('TTGamma_SingleLept', 'muon', 'JERDown') False\n",
      "done!\n"
     ]
    }
   ],
   "source": [
    "expected = util.load(\"output_Expected.coffea\")\n",
    "\n",
    "hname = \"photon_chIso\"\n",
    "for key in expected[hname].values():\n",
    "    mine = output[hname].values()[key]\n",
    "    other = expected[hname].values()[key]\n",
    "    if (~ak.all(mine == other)):\n",
    "        print(key, ak.all(mine == other))\n",
    "print('done!')"
   ]
  },
  {
   "cell_type": "markdown",
   "metadata": {},
   "source": [
    "# Accessing Arrays Interactively"
   ]
  },
  {
   "cell_type": "markdown",
   "metadata": {},
   "source": [
    "Below is an example of loading a NanoAOD file interactively. This can be very useful for developing the code, and debugging any issues. Use this area to build your intuition for working with Coffea and awkward arrays!"
   ]
  },
  {
   "cell_type": "code",
   "execution_count": 7,
   "metadata": {},
   "outputs": [],
   "source": [
    "import awkward as ak\n",
    "from coffea.nanoevents import NanoEventsFactory, NanoAODSchema\n",
    "\n",
    "fname = fileset[\"TTGamma_SingleLept\"][0]\n",
    "events = NanoEventsFactory.from_root(fname, schemaclass=NanoAODSchema).events()"
   ]
  },
  {
   "cell_type": "markdown",
   "metadata": {},
   "source": [
    "Once you have opened the file, you can explore its contents using the 'fields' syntax"
   ]
  },
  {
   "cell_type": "code",
   "execution_count": 70,
   "metadata": {},
   "outputs": [],
   "source": [
    "events[\"Photon\", \"charge\"] = 0\n",
    "leadingMuon = ak.firsts(events.Muon)\n",
    "leadingPhoton = ak.firsts(events.Photon)\n",
    "leadingElectron = ak.firsts(events.Electron)"
   ]
  },
  {
   "cell_type": "code",
   "execution_count": 73,
   "metadata": {},
   "outputs": [
    {
     "name": "stderr",
     "output_type": "stream",
     "text": [
      "/opt/conda/lib/python3.8/site-packages/awkward/_connect/_numpy.py:209: RuntimeWarning: invalid value encountered in sqrt\n",
      "  result = getattr(ufunc, method)(\n"
     ]
    },
    {
     "data": {
      "text/plain": [
       "<Array [271, 32, 32.3, ... None, 94.8, None] type='284276 * ?float32'>"
      ]
     },
     "execution_count": 73,
     "metadata": {},
     "output_type": "execute_result"
    }
   ],
   "source": [
    "(leadingMuon + leadingPhoton).mass"
   ]
  },
  {
   "cell_type": "code",
   "execution_count": 74,
   "metadata": {},
   "outputs": [
    {
     "ename": "ValueError",
     "evalue": "cannot broadcast records because keys don't match:\n    charge, eta, isGlobal, isPFcand, isTracker, mass, pfRelIso04_all, phi, pt, tightId\n    charge, cutBased, electronVeto, eta, genPartFlav, genPartIdx, genPartIdxG, isScEtaEB, isScEtaEE, pfRelIso03_chg, phi, pixelSeed, pt, sieie, vidNestedWPBitmap\n\n(https://github.com/scikit-hep/awkward-1.0/blob/1.7.0/src/awkward/_util.py#L1092)",
     "output_type": "error",
     "traceback": [
      "\u001b[0;31m---------------------------------------------------------------------------\u001b[0m",
      "\u001b[0;31mValueError\u001b[0m                                Traceback (most recent call last)",
      "\u001b[0;32m/tmp/ipykernel_7763/2608450998.py\u001b[0m in \u001b[0;36m<module>\u001b[0;34m\u001b[0m\n\u001b[0;32m----> 1\u001b[0;31m \u001b[0mmugammapairs\u001b[0m \u001b[0;34m=\u001b[0m \u001b[0mak\u001b[0m\u001b[0;34m.\u001b[0m\u001b[0mcartesian\u001b[0m\u001b[0;34m(\u001b[0m\u001b[0;34m{\u001b[0m\u001b[0;34m\"mu\"\u001b[0m\u001b[0;34m:\u001b[0m\u001b[0mleadingMuon\u001b[0m\u001b[0;34m,\u001b[0m \u001b[0;34m\"gamma\"\u001b[0m\u001b[0;34m:\u001b[0m\u001b[0mleadingPhoton\u001b[0m\u001b[0;34m}\u001b[0m\u001b[0;34m)\u001b[0m\u001b[0;34m\u001b[0m\u001b[0;34m\u001b[0m\u001b[0m\n\u001b[0m\u001b[1;32m      2\u001b[0m \u001b[0;34m(\u001b[0m\u001b[0mmugammapairs\u001b[0m\u001b[0;34m.\u001b[0m\u001b[0mmu\u001b[0m \u001b[0;34m+\u001b[0m \u001b[0mmugammapairs\u001b[0m\u001b[0;34m.\u001b[0m\u001b[0mgamma\u001b[0m\u001b[0;34m)\u001b[0m\u001b[0;34m.\u001b[0m\u001b[0mmass\u001b[0m\u001b[0;34m\u001b[0m\u001b[0;34m\u001b[0m\u001b[0m\n",
      "\u001b[0;32m/opt/conda/lib/python3.8/site-packages/awkward/operations/structure.py\u001b[0m in \u001b[0;36mcartesian\u001b[0;34m(arrays, axis, nested, parameters, with_name, highlevel, behavior)\u001b[0m\n\u001b[1;32m   3408\u001b[0m                 \u001b[0;32mreturn\u001b[0m \u001b[0;32mNone\u001b[0m\u001b[0;34m\u001b[0m\u001b[0;34m\u001b[0m\u001b[0m\n\u001b[1;32m   3409\u001b[0m \u001b[0;34m\u001b[0m\u001b[0m\n\u001b[0;32m-> 3410\u001b[0;31m         out = ak._util.broadcast_and_apply(\n\u001b[0m\u001b[1;32m   3411\u001b[0m             \u001b[0mlayouts\u001b[0m\u001b[0;34m,\u001b[0m \u001b[0mgetfunction3\u001b[0m\u001b[0;34m,\u001b[0m \u001b[0mbehavior\u001b[0m\u001b[0;34m,\u001b[0m \u001b[0mright_broadcast\u001b[0m\u001b[0;34m=\u001b[0m\u001b[0;32mFalse\u001b[0m\u001b[0;34m,\u001b[0m \u001b[0mpass_depth\u001b[0m\u001b[0;34m=\u001b[0m\u001b[0;32mTrue\u001b[0m\u001b[0;34m\u001b[0m\u001b[0;34m\u001b[0m\u001b[0m\n\u001b[1;32m   3412\u001b[0m         )\n",
      "\u001b[0;32m/opt/conda/lib/python3.8/site-packages/awkward/_util.py\u001b[0m in \u001b[0;36mbroadcast_and_apply\u001b[0;34m(inputs, getfunction, behavior, allow_records, pass_depth, pass_user, user, left_broadcast, right_broadcast, numpy_to_regular, regular_to_jagged)\u001b[0m\n\u001b[1;32m   1180\u001b[0m     \u001b[0;32melse\u001b[0m\u001b[0;34m:\u001b[0m\u001b[0;34m\u001b[0m\u001b[0;34m\u001b[0m\u001b[0m\n\u001b[1;32m   1181\u001b[0m         \u001b[0misscalar\u001b[0m \u001b[0;34m=\u001b[0m \u001b[0;34m[\u001b[0m\u001b[0;34m]\u001b[0m\u001b[0;34m\u001b[0m\u001b[0;34m\u001b[0m\u001b[0m\n\u001b[0;32m-> 1182\u001b[0;31m         \u001b[0mout\u001b[0m \u001b[0;34m=\u001b[0m \u001b[0mapply\u001b[0m\u001b[0;34m(\u001b[0m\u001b[0mbroadcast_pack\u001b[0m\u001b[0;34m(\u001b[0m\u001b[0minputs\u001b[0m\u001b[0;34m,\u001b[0m \u001b[0misscalar\u001b[0m\u001b[0;34m)\u001b[0m\u001b[0;34m,\u001b[0m \u001b[0;36m0\u001b[0m\u001b[0;34m,\u001b[0m \u001b[0muser\u001b[0m\u001b[0;34m)\u001b[0m\u001b[0;34m\u001b[0m\u001b[0;34m\u001b[0m\u001b[0m\n\u001b[0m\u001b[1;32m   1183\u001b[0m         \u001b[0;32massert\u001b[0m \u001b[0misinstance\u001b[0m\u001b[0;34m(\u001b[0m\u001b[0mout\u001b[0m\u001b[0;34m,\u001b[0m \u001b[0mtuple\u001b[0m\u001b[0;34m)\u001b[0m\u001b[0;34m\u001b[0m\u001b[0;34m\u001b[0m\u001b[0m\n\u001b[1;32m   1184\u001b[0m         \u001b[0;32mreturn\u001b[0m \u001b[0mtuple\u001b[0m\u001b[0;34m(\u001b[0m\u001b[0mbroadcast_unpack\u001b[0m\u001b[0;34m(\u001b[0m\u001b[0mx\u001b[0m\u001b[0;34m,\u001b[0m \u001b[0misscalar\u001b[0m\u001b[0;34m)\u001b[0m \u001b[0;32mfor\u001b[0m \u001b[0mx\u001b[0m \u001b[0;32min\u001b[0m \u001b[0mout\u001b[0m\u001b[0;34m)\u001b[0m\u001b[0;34m\u001b[0m\u001b[0;34m\u001b[0m\u001b[0m\n",
      "\u001b[0;32m/opt/conda/lib/python3.8/site-packages/awkward/_util.py\u001b[0m in \u001b[0;36mapply\u001b[0;34m(inputs, depth, user)\u001b[0m\n\u001b[1;32m    942\u001b[0m                     \u001b[0;34m[\u001b[0m\u001b[0mlen\u001b[0m\u001b[0;34m(\u001b[0m\u001b[0mx\u001b[0m\u001b[0;34m)\u001b[0m \u001b[0;32mfor\u001b[0m \u001b[0mx\u001b[0m \u001b[0;32min\u001b[0m \u001b[0mnextinputs\u001b[0m \u001b[0;32mif\u001b[0m \u001b[0misinstance\u001b[0m\u001b[0;34m(\u001b[0m\u001b[0mx\u001b[0m\u001b[0;34m,\u001b[0m \u001b[0mak\u001b[0m\u001b[0;34m.\u001b[0m\u001b[0mlayout\u001b[0m\u001b[0;34m.\u001b[0m\u001b[0mContent\u001b[0m\u001b[0;34m)\u001b[0m\u001b[0;34m]\u001b[0m\u001b[0;34m\u001b[0m\u001b[0;34m\u001b[0m\u001b[0m\n\u001b[1;32m    943\u001b[0m                 )\n\u001b[0;32m--> 944\u001b[0;31m                 \u001b[0moutcontent\u001b[0m \u001b[0;34m=\u001b[0m \u001b[0mapply\u001b[0m\u001b[0;34m(\u001b[0m\u001b[0mnextinputs\u001b[0m\u001b[0;34m,\u001b[0m \u001b[0mdepth\u001b[0m \u001b[0;34m+\u001b[0m \u001b[0;36m1\u001b[0m\u001b[0;34m,\u001b[0m \u001b[0muser\u001b[0m\u001b[0;34m)\u001b[0m\u001b[0;34m\u001b[0m\u001b[0;34m\u001b[0m\u001b[0m\n\u001b[0m\u001b[1;32m    945\u001b[0m                 \u001b[0;32massert\u001b[0m \u001b[0misinstance\u001b[0m\u001b[0;34m(\u001b[0m\u001b[0moutcontent\u001b[0m\u001b[0;34m,\u001b[0m \u001b[0mtuple\u001b[0m\u001b[0;34m)\u001b[0m\u001b[0;34m\u001b[0m\u001b[0;34m\u001b[0m\u001b[0m\n\u001b[1;32m    946\u001b[0m \u001b[0;34m\u001b[0m\u001b[0m\n",
      "\u001b[0;32m/opt/conda/lib/python3.8/site-packages/awkward/_util.py\u001b[0m in \u001b[0;36mapply\u001b[0;34m(inputs, depth, user)\u001b[0m\n\u001b[1;32m    895\u001b[0m                     \u001b[0mnextinputs\u001b[0m\u001b[0;34m.\u001b[0m\u001b[0mappend\u001b[0m\u001b[0;34m(\u001b[0m\u001b[0mx\u001b[0m\u001b[0;34m)\u001b[0m\u001b[0;34m\u001b[0m\u001b[0;34m\u001b[0m\u001b[0m\n\u001b[1;32m    896\u001b[0m \u001b[0;34m\u001b[0m\u001b[0m\n\u001b[0;32m--> 897\u001b[0;31m             \u001b[0moutcontent\u001b[0m \u001b[0;34m=\u001b[0m \u001b[0mapply\u001b[0m\u001b[0;34m(\u001b[0m\u001b[0mnextinputs\u001b[0m\u001b[0;34m,\u001b[0m \u001b[0mdepth\u001b[0m\u001b[0;34m,\u001b[0m \u001b[0muser\u001b[0m\u001b[0;34m)\u001b[0m\u001b[0;34m\u001b[0m\u001b[0;34m\u001b[0m\u001b[0m\n\u001b[0m\u001b[1;32m    898\u001b[0m             \u001b[0;32massert\u001b[0m \u001b[0misinstance\u001b[0m\u001b[0;34m(\u001b[0m\u001b[0moutcontent\u001b[0m\u001b[0;34m,\u001b[0m \u001b[0mtuple\u001b[0m\u001b[0;34m)\u001b[0m\u001b[0;34m\u001b[0m\u001b[0;34m\u001b[0m\u001b[0m\n\u001b[1;32m    899\u001b[0m             return tuple(\n",
      "\u001b[0;32m/opt/conda/lib/python3.8/site-packages/awkward/_util.py\u001b[0m in \u001b[0;36mapply\u001b[0;34m(inputs, depth, user)\u001b[0m\n\u001b[1;32m    942\u001b[0m                     \u001b[0;34m[\u001b[0m\u001b[0mlen\u001b[0m\u001b[0;34m(\u001b[0m\u001b[0mx\u001b[0m\u001b[0;34m)\u001b[0m \u001b[0;32mfor\u001b[0m \u001b[0mx\u001b[0m \u001b[0;32min\u001b[0m \u001b[0mnextinputs\u001b[0m \u001b[0;32mif\u001b[0m \u001b[0misinstance\u001b[0m\u001b[0;34m(\u001b[0m\u001b[0mx\u001b[0m\u001b[0;34m,\u001b[0m \u001b[0mak\u001b[0m\u001b[0;34m.\u001b[0m\u001b[0mlayout\u001b[0m\u001b[0;34m.\u001b[0m\u001b[0mContent\u001b[0m\u001b[0;34m)\u001b[0m\u001b[0;34m]\u001b[0m\u001b[0;34m\u001b[0m\u001b[0;34m\u001b[0m\u001b[0m\n\u001b[1;32m    943\u001b[0m                 )\n\u001b[0;32m--> 944\u001b[0;31m                 \u001b[0moutcontent\u001b[0m \u001b[0;34m=\u001b[0m \u001b[0mapply\u001b[0m\u001b[0;34m(\u001b[0m\u001b[0mnextinputs\u001b[0m\u001b[0;34m,\u001b[0m \u001b[0mdepth\u001b[0m \u001b[0;34m+\u001b[0m \u001b[0;36m1\u001b[0m\u001b[0;34m,\u001b[0m \u001b[0muser\u001b[0m\u001b[0;34m)\u001b[0m\u001b[0;34m\u001b[0m\u001b[0;34m\u001b[0m\u001b[0m\n\u001b[0m\u001b[1;32m    945\u001b[0m                 \u001b[0;32massert\u001b[0m \u001b[0misinstance\u001b[0m\u001b[0;34m(\u001b[0m\u001b[0moutcontent\u001b[0m\u001b[0;34m,\u001b[0m \u001b[0mtuple\u001b[0m\u001b[0;34m)\u001b[0m\u001b[0;34m\u001b[0m\u001b[0;34m\u001b[0m\u001b[0m\n\u001b[1;32m    946\u001b[0m \u001b[0;34m\u001b[0m\u001b[0m\n",
      "\u001b[0;32m/opt/conda/lib/python3.8/site-packages/awkward/_util.py\u001b[0m in \u001b[0;36mapply\u001b[0;34m(inputs, depth, user)\u001b[0m\n\u001b[1;32m    895\u001b[0m                     \u001b[0mnextinputs\u001b[0m\u001b[0;34m.\u001b[0m\u001b[0mappend\u001b[0m\u001b[0;34m(\u001b[0m\u001b[0mx\u001b[0m\u001b[0;34m)\u001b[0m\u001b[0;34m\u001b[0m\u001b[0;34m\u001b[0m\u001b[0m\n\u001b[1;32m    896\u001b[0m \u001b[0;34m\u001b[0m\u001b[0m\n\u001b[0;32m--> 897\u001b[0;31m             \u001b[0moutcontent\u001b[0m \u001b[0;34m=\u001b[0m \u001b[0mapply\u001b[0m\u001b[0;34m(\u001b[0m\u001b[0mnextinputs\u001b[0m\u001b[0;34m,\u001b[0m \u001b[0mdepth\u001b[0m\u001b[0;34m,\u001b[0m \u001b[0muser\u001b[0m\u001b[0;34m)\u001b[0m\u001b[0;34m\u001b[0m\u001b[0;34m\u001b[0m\u001b[0m\n\u001b[0m\u001b[1;32m    898\u001b[0m             \u001b[0;32massert\u001b[0m \u001b[0misinstance\u001b[0m\u001b[0;34m(\u001b[0m\u001b[0moutcontent\u001b[0m\u001b[0;34m,\u001b[0m \u001b[0mtuple\u001b[0m\u001b[0;34m)\u001b[0m\u001b[0;34m\u001b[0m\u001b[0;34m\u001b[0m\u001b[0m\n\u001b[1;32m    899\u001b[0m             return tuple(\n",
      "\u001b[0;32m/opt/conda/lib/python3.8/site-packages/awkward/_util.py\u001b[0m in \u001b[0;36mapply\u001b[0;34m(inputs, depth, user)\u001b[0m\n\u001b[1;32m   1085\u001b[0m                         \u001b[0mkeys\u001b[0m \u001b[0;34m=\u001b[0m \u001b[0mx\u001b[0m\u001b[0;34m.\u001b[0m\u001b[0mkeys\u001b[0m\u001b[0;34m(\u001b[0m\u001b[0;34m)\u001b[0m\u001b[0;34m\u001b[0m\u001b[0;34m\u001b[0m\u001b[0m\n\u001b[1;32m   1086\u001b[0m                     \u001b[0;32melif\u001b[0m \u001b[0mset\u001b[0m\u001b[0;34m(\u001b[0m\u001b[0mkeys\u001b[0m\u001b[0;34m)\u001b[0m \u001b[0;34m!=\u001b[0m \u001b[0mset\u001b[0m\u001b[0;34m(\u001b[0m\u001b[0mx\u001b[0m\u001b[0;34m.\u001b[0m\u001b[0mkeys\u001b[0m\u001b[0;34m(\u001b[0m\u001b[0;34m)\u001b[0m\u001b[0;34m)\u001b[0m\u001b[0;34m:\u001b[0m\u001b[0;34m\u001b[0m\u001b[0;34m\u001b[0m\u001b[0m\n\u001b[0;32m-> 1087\u001b[0;31m                         raise ValueError(\n\u001b[0m\u001b[1;32m   1088\u001b[0m                             \u001b[0;34m\"cannot broadcast records because keys don't \"\u001b[0m\u001b[0;34m\u001b[0m\u001b[0;34m\u001b[0m\u001b[0m\n\u001b[1;32m   1089\u001b[0m                             \"match:\\n    {0}\\n    {1}\".format(\n",
      "\u001b[0;31mValueError\u001b[0m: cannot broadcast records because keys don't match:\n    charge, eta, isGlobal, isPFcand, isTracker, mass, pfRelIso04_all, phi, pt, tightId\n    charge, cutBased, electronVeto, eta, genPartFlav, genPartIdx, genPartIdxG, isScEtaEB, isScEtaEE, pfRelIso03_chg, phi, pixelSeed, pt, sieie, vidNestedWPBitmap\n\n(https://github.com/scikit-hep/awkward-1.0/blob/1.7.0/src/awkward/_util.py#L1092)"
     ]
    }
   ],
   "source": [
    "mugammapairs = ak.cartesian({\"mu\":leadingMuon, \"gamma\":leadingPhoton})\n",
    "(mugammapairs.mu + mugammapairs.gamma).mass"
   ]
  },
  {
   "cell_type": "code",
   "execution_count": 61,
   "metadata": {},
   "outputs": [
    {
     "ename": "TypeError",
     "evalue": "None cannot be converted into an Awkward Array\n\n(https://github.com/scikit-hep/awkward-1.0/blob/1.7.0/src/awkward/operations/convert.py#L1940)",
     "output_type": "error",
     "traceback": [
      "\u001b[0;31m---------------------------------------------------------------------------\u001b[0m",
      "\u001b[0;31mTypeError\u001b[0m                                 Traceback (most recent call last)",
      "\u001b[0;32m/tmp/ipykernel_7763/2241557690.py\u001b[0m in \u001b[0;36m<module>\u001b[0;34m\u001b[0m\n\u001b[0;32m----> 1\u001b[0;31m \u001b[0mak\u001b[0m\u001b[0;34m.\u001b[0m\u001b[0mcartesian\u001b[0m\u001b[0;34m(\u001b[0m\u001b[0mleadingMuon\u001b[0m\u001b[0;34m,\u001b[0m \u001b[0mleadingPhoton\u001b[0m\u001b[0;34m)\u001b[0m\u001b[0;34m\u001b[0m\u001b[0;34m\u001b[0m\u001b[0m\n\u001b[0m",
      "\u001b[0;32m/opt/conda/lib/python3.8/site-packages/awkward/operations/structure.py\u001b[0m in \u001b[0;36mcartesian\u001b[0;34m(arrays, axis, nested, parameters, with_name, highlevel, behavior)\u001b[0m\n\u001b[1;32m   3185\u001b[0m         \u001b[0;32mfor\u001b[0m \u001b[0mx\u001b[0m \u001b[0;32min\u001b[0m \u001b[0marrays\u001b[0m\u001b[0;34m:\u001b[0m\u001b[0;34m\u001b[0m\u001b[0;34m\u001b[0m\u001b[0m\n\u001b[1;32m   3186\u001b[0m             new_arrays.append(\n\u001b[0;32m-> 3187\u001b[0;31m                 ak.operations.convert.to_layout(\n\u001b[0m\u001b[1;32m   3188\u001b[0m                     \u001b[0mx\u001b[0m\u001b[0;34m,\u001b[0m \u001b[0mallow_record\u001b[0m\u001b[0;34m=\u001b[0m\u001b[0;32mFalse\u001b[0m\u001b[0;34m,\u001b[0m \u001b[0mallow_other\u001b[0m\u001b[0;34m=\u001b[0m\u001b[0;32mFalse\u001b[0m\u001b[0;34m\u001b[0m\u001b[0;34m\u001b[0m\u001b[0m\n\u001b[1;32m   3189\u001b[0m                 )\n",
      "\u001b[0;32m/opt/conda/lib/python3.8/site-packages/awkward/operations/convert.py\u001b[0m in \u001b[0;36mto_layout\u001b[0;34m(array, allow_record, allow_other, numpytype)\u001b[0m\n\u001b[1;32m   1936\u001b[0m \u001b[0;34m\u001b[0m\u001b[0m\n\u001b[1;32m   1937\u001b[0m     \u001b[0;32melif\u001b[0m \u001b[0;32mnot\u001b[0m \u001b[0mallow_other\u001b[0m\u001b[0;34m:\u001b[0m\u001b[0;34m\u001b[0m\u001b[0;34m\u001b[0m\u001b[0m\n\u001b[0;32m-> 1938\u001b[0;31m         raise TypeError(\n\u001b[0m\u001b[1;32m   1939\u001b[0m             \u001b[0;34m\"{0} cannot be converted into an Awkward Array\"\u001b[0m\u001b[0;34m.\u001b[0m\u001b[0mformat\u001b[0m\u001b[0;34m(\u001b[0m\u001b[0marray\u001b[0m\u001b[0;34m)\u001b[0m\u001b[0;34m\u001b[0m\u001b[0;34m\u001b[0m\u001b[0m\n\u001b[1;32m   1940\u001b[0m             \u001b[0;34m+\u001b[0m \u001b[0mak\u001b[0m\u001b[0;34m.\u001b[0m\u001b[0m_util\u001b[0m\u001b[0;34m.\u001b[0m\u001b[0mexception_suffix\u001b[0m\u001b[0;34m(\u001b[0m\u001b[0m__file__\u001b[0m\u001b[0;34m)\u001b[0m\u001b[0;34m\u001b[0m\u001b[0;34m\u001b[0m\u001b[0m\n",
      "\u001b[0;31mTypeError\u001b[0m: None cannot be converted into an Awkward Array\n\n(https://github.com/scikit-hep/awkward-1.0/blob/1.7.0/src/awkward/operations/convert.py#L1940)"
     ]
    }
   ],
   "source": [
    "ak.cartesian(leadingMuon, leadingPhoton)"
   ]
  },
  {
   "cell_type": "code",
   "execution_count": 40,
   "metadata": {},
   "outputs": [
    {
     "name": "stdout",
     "output_type": "stream",
     "text": [
      "[Muon, None, Muon, Muon, Muon, None, None, ... Muon, Muon, None, None, Muon, None]\n"
     ]
    }
   ],
   "source": [
    "print(leadingMuon)"
   ]
  },
  {
   "cell_type": "code",
   "execution_count": 37,
   "metadata": {},
   "outputs": [
    {
     "data": {
      "text/plain": [
       "coffea.nanoevents.methods.nanoaod.MuonArray"
      ]
     },
     "execution_count": 37,
     "metadata": {},
     "output_type": "execute_result"
    }
   ],
   "source": [
    "type(leadingMuon)"
   ]
  },
  {
   "cell_type": "code",
   "execution_count": 1,
   "metadata": {},
   "outputs": [
    {
     "data": {
      "text/plain": [
       "2 dimensional histogram with axes:\n",
       "\t1: [0.  0.9 1.2 2.1 2.4]\n",
       "\t2: [ 26.  30.  40.  50.  60. 120. 200. 500.]"
      ]
     },
     "execution_count": 1,
     "metadata": {},
     "output_type": "execute_result"
    }
   ],
   "source": [
    "from ttgamma.scalefactors import mu_trig_err\n",
    "\n",
    "mu_trig_err"
   ]
  },
  {
   "cell_type": "code",
   "execution_count": 2,
   "metadata": {},
   "outputs": [
    {
     "data": {
      "text/plain": [
       "0.0006185738334658688"
      ]
     },
     "execution_count": 2,
     "metadata": {},
     "output_type": "execute_result"
    }
   ],
   "source": [
    "mu_trig_err(1.2, 36)"
   ]
  },
  {
   "cell_type": "code",
   "execution_count": 69,
   "metadata": {},
   "outputs": [
    {
     "data": {
      "text/plain": [
       "['eta',\n",
       " 'mass',\n",
       " 'phi',\n",
       " 'pt',\n",
       " 'genPartIdxMother',\n",
       " 'pdgId',\n",
       " 'status',\n",
       " 'statusFlags',\n",
       " 'genPartIdxMotherG',\n",
       " 'distinctParentIdxG',\n",
       " 'childrenIdxG',\n",
       " 'distinctChildrenIdxG']"
      ]
     },
     "execution_count": 69,
     "metadata": {},
     "output_type": "execute_result"
    }
   ],
   "source": [
    "events.Photon.matched_gen.fields"
   ]
  },
  {
   "cell_type": "code",
   "execution_count": 9,
   "metadata": {},
   "outputs": [
    {
     "data": {
      "text/plain": [
       "['eta',\n",
       " 'mass',\n",
       " 'phi',\n",
       " 'pt',\n",
       " 'genPartIdxMother',\n",
       " 'pdgId',\n",
       " 'status',\n",
       " 'statusFlags',\n",
       " 'genPartIdxMotherG',\n",
       " 'distinctParentIdxG',\n",
       " 'childrenIdxG',\n",
       " 'distinctChildrenIdxG']"
      ]
     },
     "execution_count": 9,
     "metadata": {},
     "output_type": "execute_result"
    }
   ],
   "source": [
    "events.GenPart.fields"
   ]
  },
  {
   "cell_type": "markdown",
   "metadata": {},
   "source": [
    "There is also a docstring for each of these variables in NanoAOD, which you can access using '?':"
   ]
  },
  {
   "cell_type": "code",
   "execution_count": 11,
   "metadata": {},
   "outputs": [],
   "source": [
    "events.Jet.rawFactor?"
   ]
  },
  {
   "cell_type": "code",
   "execution_count": null,
   "metadata": {},
   "outputs": [],
   "source": []
  }
 ],
 "metadata": {
  "kernelspec": {
   "display_name": "Python 3 (ipykernel)",
   "language": "python",
   "name": "python3"
  },
  "language_info": {
   "codemirror_mode": {
    "name": "ipython",
    "version": 3
   },
   "file_extension": ".py",
   "mimetype": "text/x-python",
   "name": "python",
   "nbconvert_exporter": "python",
   "pygments_lexer": "ipython3",
   "version": "3.8.12"
  }
 },
 "nbformat": 4,
 "nbformat_minor": 2
}
